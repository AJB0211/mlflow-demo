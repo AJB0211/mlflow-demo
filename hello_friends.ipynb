{
 "cells": [
  {
   "cell_type": "code",
   "execution_count": 1,
   "metadata": {},
   "outputs": [],
   "source": [
    "import secrets ## for automatic model naming"
   ]
  },
  {
   "cell_type": "code",
   "execution_count": 2,
   "metadata": {},
   "outputs": [],
   "source": [
    "from sklearn.datasets import load_digits\n",
    "from sklearn.model_selection import train_test_split\n",
    "from sklearn import svm\n",
    "\n",
    "import matplotlib as mpl\n",
    "import matplotlib.pyplot as plt\n",
    "\n",
    "%matplotlib inline"
   ]
  },
  {
   "cell_type": "code",
   "execution_count": 3,
   "metadata": {},
   "outputs": [],
   "source": [
    "import mlflow\n",
    "from mlflow import log_metric, log_param, log_artifact\n",
    "from mlflow.sklearn import save_model"
   ]
  },
  {
   "cell_type": "markdown",
   "metadata": {},
   "source": [
    "Set the `uri` that you were given here. This targets my EC2 server with `MLflow` running"
   ]
  },
  {
   "cell_type": "code",
   "execution_count": 4,
   "metadata": {},
   "outputs": [],
   "source": [
    "uri = \"http://18.221.3.137:5000\""
   ]
  },
  {
   "cell_type": "code",
   "execution_count": 5,
   "metadata": {},
   "outputs": [
    {
     "name": "stdout",
     "output_type": "stream",
     "text": [
      "INFO: 'hello-friends' does not exist. Creating a new experiment\n"
     ]
    }
   ],
   "source": [
    "if uri is None:\n",
    "    raise ValueError(\"Get the URI for the MLflow server in order to run this notebook\")\n",
    "mlflow.set_tracking_uri(uri)\n",
    "mlflow.set_experiment(\"hello-friends\")"
   ]
  },
  {
   "cell_type": "code",
   "execution_count": 6,
   "metadata": {},
   "outputs": [],
   "source": [
    "digits = load_digits()\n",
    "\n",
    "# split 80/20 train-test\n",
    "X_train, X_test, y_train, y_test = train_test_split(digits.data,\n",
    "                                                    digits.target,\n",
    "                                                    test_size=0.2,\n",
    "                                                    random_state=1)"
   ]
  },
  {
   "cell_type": "code",
   "execution_count": 7,
   "metadata": {},
   "outputs": [],
   "source": [
    "# Train-Validation Split\n",
    "X_train_split, X_val, y_train_split, y_val = train_test_split(X_train,\n",
    "                                                              y_train,\n",
    "                                                              test_size=0.25,\n",
    "                                                              random_state=1)"
   ]
  },
  {
   "cell_type": "markdown",
   "metadata": {},
   "source": [
    "Edit this box to customize model"
   ]
  },
  {
   "cell_type": "code",
   "execution_count": 8,
   "metadata": {},
   "outputs": [
    {
     "name": "stdout",
     "output_type": "stream",
     "text": [
      "Model name is:\n",
      "\teae91a5930c8\n"
     ]
    }
   ],
   "source": [
    "## Set your parameters here\n",
    "## Or scale this up to implement grid search\n",
    "params = {\n",
    "    \"C\" : 1.0,            ## cost\n",
    "    \"kernel\" : \"rbf\",\n",
    "    \"degree\" : 3,         ## only used by polynomial kernels\n",
    "    \"gamma\"  : \"scale\",   ## kernel coefficient, can be set to a float\n",
    "    \"coef0\"  : 0.0        ## independent term for sigmoid and polynomial kernels\n",
    "}\n",
    "\n",
    "\n",
    "\n",
    "## Change this with your name to log it, else a random name will be generated\n",
    "###\n",
    "model_name = None\n",
    "\n",
    "###\n",
    "\n",
    "\n",
    "if model_name is None:\n",
    "    model_name = secrets.token_hex(6)\n",
    "\n",
    "print(f\"Model name is:\\n\\t{model_name}\")"
   ]
  },
  {
   "cell_type": "code",
   "execution_count": 9,
   "metadata": {},
   "outputs": [
    {
     "data": {
      "image/png": "[encoded data removed]",
      "text/plain": [
       "<Figure size 1008x576 with 1 Axes>"
      ]
     },
     "metadata": {
      "needs_background": "light"
     },
     "output_type": "display_data"
    }
   ],
   "source": [
    "with mlflow.start_run(run_name = model_name) as run:\n",
    "    fig, ax = plt.subplots(1,1, figsize=(14,8))\n",
    "    \n",
    "    ## log parameters to mllib\n",
    "    mlflow.log_params(params)\n",
    "    \n",
    "    ## Support vector classifier\n",
    "    model = svm.SVC(**params)\n",
    "    model.fit(X_train_split, y_train_split)\n",
    "    \n",
    "    ## Calculate Metrics\n",
    "    tr = model.score(X_train_split, y_train_split)\n",
    "    vl = model.score(X_val,y_val)\n",
    "    tt = model.score(X_test,y_test)\n",
    "    \n",
    "    ## Save metrics\n",
    "    mlflow.log_metric(\"train\", tr)\n",
    "    mlflow.log_metric(\"valid\", vl)\n",
    "    mlflow.log_metric(\"test\", tt)\n",
    "    \n",
    "    ## Save model\n",
    "    save_model(model, model_name)\n",
    "    \n",
    "    ## Make a figure\n",
    "    fig, ax = plt.subplots(1,1, figsize=(14,8))\n",
    "\n",
    "    ax.bar(range(3),[tr,vl,tt])\n",
    "\n",
    "    ax.set_ylim(0.95,1)\n",
    "    ax.set_xticks(range(3))\n",
    "    ax.set_xticklabels([\"train\",\"test\",\"valid\"])\n",
    "\n",
    "    ax.set_title(\"Loss in Data Partition\")\n",
    "    \n",
    "    ## Save a figure\n",
    "    fig_path = f\"loss_fig_{model_name}.png\"\n",
    "    fig.savefig(fig_path)\n",
    "    mlflow.log_artifact(fig_path)\n",
    "    \n",
    "    ## Attempting to stop show of figure\n",
    "    plt.close(fig)\n",
    "    None\n",
    "    \n",
    "## A box may still show up because Jupyter notebooks are awful\n",
    "None"
   ]
  },
  {
   "cell_type": "code",
   "execution_count": null,
   "metadata": {},
   "outputs": [],
   "source": []
  }
 ],
 "metadata": {
  "kernelspec": {
   "display_name": "Python 3",
   "language": "python",
   "name": "python3"
  },
  "language_info": {
   "codemirror_mode": {
    "name": "ipython",
    "version": 3
   },
   "file_extension": ".py",
   "mimetype": "text/x-python",
   "name": "python",
   "nbconvert_exporter": "python",
   "pygments_lexer": "ipython3",
   "version": "3.7.6"
  }
 },
 "nbformat": 4,
 "nbformat_minor": 4
}
